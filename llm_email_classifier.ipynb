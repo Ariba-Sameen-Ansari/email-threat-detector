{
 "cells": [
  {
   "cell_type": "code",
   "execution_count": 1,
   "id": "52543ff8",
   "metadata": {},
   "outputs": [
    {
     "name": "stdout",
     "output_type": "stream",
     "text": [
      "Requirement already satisfied: transformers in c:\\users\\ariba\\anaconda3\\lib\\site-packages (4.32.1)\n",
      "Requirement already satisfied: filelock in c:\\users\\ariba\\anaconda3\\lib\\site-packages (from transformers) (3.9.0)\n",
      "Requirement already satisfied: huggingface-hub<1.0,>=0.15.1 in c:\\users\\ariba\\anaconda3\\lib\\site-packages (from transformers) (0.15.1)\n",
      "Requirement already satisfied: numpy>=1.17 in c:\\users\\ariba\\anaconda3\\lib\\site-packages (from transformers) (1.24.3)\n",
      "Requirement already satisfied: packaging>=20.0 in c:\\users\\ariba\\anaconda3\\lib\\site-packages (from transformers) (23.1)\n",
      "Requirement already satisfied: pyyaml>=5.1 in c:\\users\\ariba\\anaconda3\\lib\\site-packages (from transformers) (6.0)\n",
      "Requirement already satisfied: regex!=2019.12.17 in c:\\users\\ariba\\anaconda3\\lib\\site-packages (from transformers) (2022.7.9)\n",
      "Requirement already satisfied: requests in c:\\users\\ariba\\anaconda3\\lib\\site-packages (from transformers) (2.31.0)\n",
      "Requirement already satisfied: tokenizers!=0.11.3,<0.14,>=0.11.1 in c:\\users\\ariba\\anaconda3\\lib\\site-packages (from transformers) (0.13.2)\n",
      "Requirement already satisfied: safetensors>=0.3.1 in c:\\users\\ariba\\anaconda3\\lib\\site-packages (from transformers) (0.3.2)\n",
      "Requirement already satisfied: tqdm>=4.27 in c:\\users\\ariba\\anaconda3\\lib\\site-packages (from transformers) (4.65.0)\n",
      "Requirement already satisfied: fsspec in c:\\users\\ariba\\anaconda3\\lib\\site-packages (from huggingface-hub<1.0,>=0.15.1->transformers) (2023.4.0)\n",
      "Requirement already satisfied: typing-extensions>=3.7.4.3 in c:\\users\\ariba\\anaconda3\\lib\\site-packages (from huggingface-hub<1.0,>=0.15.1->transformers) (4.7.1)\n",
      "Requirement already satisfied: colorama in c:\\users\\ariba\\anaconda3\\lib\\site-packages (from tqdm>=4.27->transformers) (0.4.6)\n",
      "Requirement already satisfied: charset-normalizer<4,>=2 in c:\\users\\ariba\\anaconda3\\lib\\site-packages (from requests->transformers) (2.0.4)\n",
      "Requirement already satisfied: idna<4,>=2.5 in c:\\users\\ariba\\anaconda3\\lib\\site-packages (from requests->transformers) (3.4)\n",
      "Requirement already satisfied: urllib3<3,>=1.21.1 in c:\\users\\ariba\\anaconda3\\lib\\site-packages (from requests->transformers) (1.26.16)\n",
      "Requirement already satisfied: certifi>=2017.4.17 in c:\\users\\ariba\\anaconda3\\lib\\site-packages (from requests->transformers) (2025.6.15)\n",
      "Collecting torch\n",
      "  Obtaining dependency information for torch from https://files.pythonhosted.org/packages/50/9e/acf04ff375b0b49a45511c55d188bcea5c942da2aaf293096676110086d1/torch-2.7.1-cp311-cp311-win_amd64.whl.metadata\n",
      "  Downloading torch-2.7.1-cp311-cp311-win_amd64.whl.metadata (28 kB)\n",
      "Requirement already satisfied: filelock in c:\\users\\ariba\\anaconda3\\lib\\site-packages (from torch) (3.9.0)\n",
      "Collecting typing-extensions>=4.10.0 (from torch)\n",
      "  Obtaining dependency information for typing-extensions>=4.10.0 from https://files.pythonhosted.org/packages/69/e0/552843e0d356fbb5256d21449fa957fa4eff3bbc135a74a691ee70c7c5da/typing_extensions-4.14.0-py3-none-any.whl.metadata\n",
      "  Downloading typing_extensions-4.14.0-py3-none-any.whl.metadata (3.0 kB)\n",
      "Collecting sympy>=1.13.3 (from torch)\n",
      "  Obtaining dependency information for sympy>=1.13.3 from https://files.pythonhosted.org/packages/a2/09/77d55d46fd61b4a135c444fc97158ef34a095e5681d0a6c10b75bf356191/sympy-1.14.0-py3-none-any.whl.metadata\n",
      "  Downloading sympy-1.14.0-py3-none-any.whl.metadata (12 kB)\n",
      "Requirement already satisfied: networkx in c:\\users\\ariba\\anaconda3\\lib\\site-packages (from torch) (3.1)\n",
      "Requirement already satisfied: jinja2 in c:\\users\\ariba\\anaconda3\\lib\\site-packages (from torch) (3.1.2)\n",
      "Requirement already satisfied: fsspec in c:\\users\\ariba\\anaconda3\\lib\\site-packages (from torch) (2023.4.0)\n",
      "Requirement already satisfied: mpmath<1.4,>=1.1.0 in c:\\users\\ariba\\anaconda3\\lib\\site-packages (from sympy>=1.13.3->torch) (1.3.0)\n",
      "Requirement already satisfied: MarkupSafe>=2.0 in c:\\users\\ariba\\anaconda3\\lib\\site-packages (from jinja2->torch) (2.1.1)\n",
      "Downloading torch-2.7.1-cp311-cp311-win_amd64.whl (216.1 MB)\n",
      "   ---------------------------------------- 0.0/216.1 MB ? eta -:--:--\n",
      "   ---------------------------------------- 0.1/216.1 MB 2.6 MB/s eta 0:01:22\n",
      "   ---------------------------------------- 0.5/216.1 MB 5.6 MB/s eta 0:00:39\n",
      "   ---------------------------------------- 1.6/216.1 MB 15.0 MB/s eta 0:00:15\n",
      "    --------------------------------------- 3.3/216.1 MB 19.2 MB/s eta 0:00:12\n",
      "   - -------------------------------------- 6.5/216.1 MB 29.7 MB/s eta 0:00:08\n",
      "   - -------------------------------------- 10.6/216.1 MB 54.7 MB/s eta 0:00:04\n",
      "   -- ------------------------------------- 15.6/216.1 MB 93.9 MB/s eta 0:00:03\n",
      "   --- ----------------------------------- 20.4/216.1 MB 108.8 MB/s eta 0:00:02\n",
      "   ---- ---------------------------------- 24.2/216.1 MB 110.0 MB/s eta 0:00:02\n",
      "   ----- --------------------------------- 29.5/216.1 MB 110.0 MB/s eta 0:00:02\n",
      "   ------ -------------------------------- 35.6/216.1 MB 131.2 MB/s eta 0:00:02\n",
      "   ------- ------------------------------- 39.8/216.1 MB 108.8 MB/s eta 0:00:02\n",
      "   ------- ------------------------------- 44.2/216.1 MB 110.0 MB/s eta 0:00:02\n",
      "   -------- ------------------------------- 44.4/216.1 MB 81.8 MB/s eta 0:00:03\n",
      "   -------- ------------------------------- 45.1/216.1 MB 54.4 MB/s eta 0:00:04\n",
      "   --------- ------------------------------ 49.8/216.1 MB 54.4 MB/s eta 0:00:04\n",
      "   ---------- ----------------------------- 54.8/216.1 MB 93.9 MB/s eta 0:00:02\n",
      "   ---------- ----------------------------- 55.4/216.1 MB 81.8 MB/s eta 0:00:02\n",
      "   ---------- ----------------------------- 57.0/216.1 MB 65.6 MB/s eta 0:00:03\n",
      "   ---------- ----------------------------- 59.0/216.1 MB 54.7 MB/s eta 0:00:03\n",
      "   ----------- ---------------------------- 62.2/216.1 MB 50.4 MB/s eta 0:00:04\n",
      "   ------------ --------------------------- 65.4/216.1 MB 54.4 MB/s eta 0:00:03\n",
      "   ------------ --------------------------- 67.9/216.1 MB 59.5 MB/s eta 0:00:03\n",
      "   ------------ --------------------------- 70.1/216.1 MB 59.5 MB/s eta 0:00:03\n",
      "   ------------- -------------------------- 72.8/216.1 MB 59.8 MB/s eta 0:00:03\n",
      "   -------------- ------------------------- 75.7/216.1 MB 54.7 MB/s eta 0:00:03\n",
      "   -------------- ------------------------- 79.0/216.1 MB 59.5 MB/s eta 0:00:03\n",
      "   --------------- ------------------------ 81.9/216.1 MB 59.5 MB/s eta 0:00:03\n",
      "   --------------- ------------------------ 85.4/216.1 MB 65.6 MB/s eta 0:00:02\n",
      "   ---------------- ----------------------- 88.5/216.1 MB 65.6 MB/s eta 0:00:02\n",
      "   ---------------- ----------------------- 91.6/216.1 MB 65.2 MB/s eta 0:00:02\n",
      "   ----------------- ---------------------- 94.5/216.1 MB 65.2 MB/s eta 0:00:02\n",
      "   ----------------- ---------------------- 96.9/216.1 MB 59.8 MB/s eta 0:00:02\n",
      "   ------------------ -------------------- 100.0/216.1 MB 59.5 MB/s eta 0:00:02\n",
      "   ------------------ -------------------- 102.8/216.1 MB 59.5 MB/s eta 0:00:02\n",
      "   ------------------- ------------------- 106.0/216.1 MB 59.5 MB/s eta 0:00:02\n",
      "   ------------------- ------------------- 108.8/216.1 MB 65.6 MB/s eta 0:00:02\n",
      "   -------------------- ------------------ 111.7/216.1 MB 59.5 MB/s eta 0:00:02\n",
      "   -------------------- ------------------ 113.9/216.1 MB 65.6 MB/s eta 0:00:02\n",
      "   --------------------- ----------------- 117.0/216.1 MB 65.6 MB/s eta 0:00:02\n",
      "   --------------------- ----------------- 118.8/216.1 MB 54.4 MB/s eta 0:00:02\n",
      "   --------------------- ----------------- 121.5/216.1 MB 54.4 MB/s eta 0:00:02\n",
      "   ---------------------- ---------------- 123.9/216.1 MB 50.1 MB/s eta 0:00:02\n",
      "   ---------------------- ---------------- 126.2/216.1 MB 50.4 MB/s eta 0:00:02\n",
      "   ----------------------- --------------- 128.6/216.1 MB 46.9 MB/s eta 0:00:02\n",
      "   ----------------------- --------------- 130.6/216.1 MB 54.4 MB/s eta 0:00:02\n",
      "   ----------------------- --------------- 132.8/216.1 MB 50.4 MB/s eta 0:00:02\n",
      "   ------------------------ -------------- 135.3/216.1 MB 50.4 MB/s eta 0:00:02\n",
      "   ------------------------ -------------- 137.1/216.1 MB 50.4 MB/s eta 0:00:02\n",
      "   ------------------------- ------------- 139.6/216.1 MB 50.4 MB/s eta 0:00:02\n",
      "   ------------------------- ------------- 141.8/216.1 MB 50.4 MB/s eta 0:00:02\n",
      "   -------------------------- ------------ 144.5/216.1 MB 50.4 MB/s eta 0:00:02\n",
      "   -------------------------- ------------ 147.1/216.1 MB 54.4 MB/s eta 0:00:02\n",
      "   -------------------------- ------------ 149.5/216.1 MB 54.4 MB/s eta 0:00:02\n",
      "   --------------------------- ----------- 152.7/216.1 MB 59.8 MB/s eta 0:00:02\n",
      "   ---------------------------- ---------- 155.4/216.1 MB 59.5 MB/s eta 0:00:02\n",
      "   ---------------------------- ---------- 158.5/216.1 MB 59.5 MB/s eta 0:00:01\n",
      "   ----------------------------- --------- 161.2/216.1 MB 65.6 MB/s eta 0:00:01\n",
      "   ----------------------------- --------- 164.4/216.1 MB 65.6 MB/s eta 0:00:01\n",
      "   ------------------------------ -------- 167.2/216.1 MB 65.6 MB/s eta 0:00:01\n",
      "   ------------------------------ -------- 169.8/216.1 MB 65.2 MB/s eta 0:00:01\n",
      "   ------------------------------- ------- 172.6/216.1 MB 65.2 MB/s eta 0:00:01\n",
      "   -------------------------------- ------ 179.1/216.1 MB 93.9 MB/s eta 0:00:01\n",
      "   -------------------------------- ----- 184.0/216.1 MB 131.2 MB/s eta 0:00:01\n",
      "   --------------------------------- ---- 189.3/216.1 MB 108.8 MB/s eta 0:00:01\n",
      "   ---------------------------------- ---- 191.9/216.1 MB 93.9 MB/s eta 0:00:01\n",
      "   ----------------------------------- --- 197.4/216.1 MB 93.9 MB/s eta 0:00:01\n",
      "   ----------------------------------- -- 203.2/216.1 MB 131.2 MB/s eta 0:00:01\n",
      "   ----------------------------------- -- 203.6/216.1 MB 131.2 MB/s eta 0:00:01\n",
      "   ------------------------------------ -- 203.7/216.1 MB 73.1 MB/s eta 0:00:01\n",
      "   ------------------------------------ -- 203.8/216.1 MB 46.9 MB/s eta 0:00:01\n",
      "   ------------------------------------ -- 204.0/216.1 MB 38.6 MB/s eta 0:00:01\n",
      "   ------------------------------------ -- 204.5/216.1 MB 34.4 MB/s eta 0:00:01\n",
      "   ------------------------------------- - 209.0/216.1 MB 32.8 MB/s eta 0:00:01\n",
      "   -------------------------------------  214.9/216.1 MB 108.8 MB/s eta 0:00:01\n",
      "   -------------------------------------  216.1/216.1 MB 108.8 MB/s eta 0:00:01\n",
      "   -------------------------------------  216.1/216.1 MB 108.8 MB/s eta 0:00:01\n",
      "   -------------------------------------  216.1/216.1 MB 108.8 MB/s eta 0:00:01\n",
      "   -------------------------------------  216.1/216.1 MB 108.8 MB/s eta 0:00:01\n",
      "   -------------------------------------  216.1/216.1 MB 108.8 MB/s eta 0:00:01\n",
      "   -------------------------------------  216.1/216.1 MB 108.8 MB/s eta 0:00:01\n",
      "   -------------------------------------  216.1/216.1 MB 108.8 MB/s eta 0:00:01\n",
      "   -------------------------------------  216.1/216.1 MB 108.8 MB/s eta 0:00:01\n",
      "   -------------------------------------  216.1/216.1 MB 108.8 MB/s eta 0:00:01\n",
      "   --------------------------------------- 216.1/216.1 MB 16.4 MB/s eta 0:00:00\n",
      "Downloading sympy-1.14.0-py3-none-any.whl (6.3 MB)\n",
      "   ---------------------------------------- 0.0/6.3 MB ? eta -:--:--\n",
      "   -------------- ------------------------- 2.2/6.3 MB 71.0 MB/s eta 0:00:01\n",
      "   -------------- ------------------------- 2.3/6.3 MB 35.9 MB/s eta 0:00:01\n",
      "   -------------- ------------------------- 2.3/6.3 MB 16.5 MB/s eta 0:00:01\n",
      "   --------------- ------------------------ 2.5/6.3 MB 13.2 MB/s eta 0:00:01\n",
      "   ------------------------- -------------- 4.0/6.3 MB 17.0 MB/s eta 0:00:01\n",
      "   ---------------------------------------- 6.3/6.3 MB 23.6 MB/s eta 0:00:00\n",
      "Downloading typing_extensions-4.14.0-py3-none-any.whl (43 kB)\n",
      "   ---------------------------------------- 0.0/43.8 kB ? eta -:--:--\n",
      "   ---------------------------------------- 43.8/43.8 kB ? eta 0:00:00\n",
      "Installing collected packages: typing-extensions, sympy, torch\n",
      "  Attempting uninstall: typing-extensions\n",
      "    Found existing installation: typing_extensions 4.7.1\n",
      "    Uninstalling typing_extensions-4.7.1:\n",
      "      Successfully uninstalled typing_extensions-4.7.1\n",
      "  Attempting uninstall: sympy\n",
      "    Found existing installation: sympy 1.11.1\n",
      "    Uninstalling sympy-1.11.1:\n",
      "      Successfully uninstalled sympy-1.11.1\n",
      "Successfully installed sympy-1.14.0 torch-2.7.1 typing-extensions-4.14.0\n"
     ]
    }
   ],
   "source": [
    "!pip install transformers\n",
    "!pip install torch"
   ]
  },
  {
   "cell_type": "code",
   "execution_count": 2,
   "id": "f53123ac",
   "metadata": {},
   "outputs": [
    {
     "name": "stderr",
     "output_type": "stream",
     "text": [
      "C:\\Users\\Ariba\\anaconda3\\Lib\\site-packages\\transformers\\utils\\generic.py:260: FutureWarning: `torch.utils._pytree._register_pytree_node` is deprecated. Please use `torch.utils._pytree.register_pytree_node` instead.\n",
      "  torch.utils._pytree._register_pytree_node(\n",
      "No model was supplied, defaulted to facebook/bart-large-mnli and revision c626438 (https://huggingface.co/facebook/bart-large-mnli).\n",
      "Using a pipeline without specifying a model name and revision in production is not recommended.\n"
     ]
    },
    {
     "data": {
      "application/vnd.jupyter.widget-view+json": {
       "model_id": "fddc99d2d5f3408a9316dd395a75ad29",
       "version_major": 2,
       "version_minor": 0
      },
      "text/plain": [
       "Downloading config.json: 0.00B [00:00, ?B/s]"
      ]
     },
     "metadata": {},
     "output_type": "display_data"
    },
    {
     "name": "stderr",
     "output_type": "stream",
     "text": [
      "C:\\Users\\Ariba\\anaconda3\\Lib\\site-packages\\huggingface_hub\\file_download.py:133: UserWarning: `huggingface_hub` cache-system uses symlinks by default to efficiently store duplicated files but your machine does not support them in C:\\Users\\Ariba\\.cache\\huggingface\\hub. Caching files will still work but in a degraded version that might require more space on your disk. This warning can be disabled by setting the `HF_HUB_DISABLE_SYMLINKS_WARNING` environment variable. For more details, see https://huggingface.co/docs/huggingface_hub/how-to-cache#limitations.\n",
      "To support symlinks on Windows, you either need to activate Developer Mode or to run Python as an administrator. In order to see activate developer mode, see this article: https://docs.microsoft.com/en-us/windows/apps/get-started/enable-your-device-for-development\n",
      "  warnings.warn(message)\n"
     ]
    },
    {
     "data": {
      "application/vnd.jupyter.widget-view+json": {
       "model_id": "cfa2961541cd4663b7c64d65e87b00ea",
       "version_major": 2,
       "version_minor": 0
      },
      "text/plain": [
       "Downloading model.safetensors:   0%|          | 0.00/1.63G [00:00<?, ?B/s]"
      ]
     },
     "metadata": {},
     "output_type": "display_data"
    },
    {
     "data": {
      "application/vnd.jupyter.widget-view+json": {
       "model_id": "eaab9fc9b18d42689057c74d68853525",
       "version_major": 2,
       "version_minor": 0
      },
      "text/plain": [
       "Downloading tokenizer_config.json:   0%|          | 0.00/26.0 [00:00<?, ?B/s]"
      ]
     },
     "metadata": {},
     "output_type": "display_data"
    },
    {
     "data": {
      "application/vnd.jupyter.widget-view+json": {
       "model_id": "183b28330e054b0384beb405307f206f",
       "version_major": 2,
       "version_minor": 0
      },
      "text/plain": [
       "Downloading vocab.json: 0.00B [00:00, ?B/s]"
      ]
     },
     "metadata": {},
     "output_type": "display_data"
    },
    {
     "data": {
      "application/vnd.jupyter.widget-view+json": {
       "model_id": "a3a5b2d4b70641f8b2fea5b4acd3952b",
       "version_major": 2,
       "version_minor": 0
      },
      "text/plain": [
       "Downloading merges.txt: 0.00B [00:00, ?B/s]"
      ]
     },
     "metadata": {},
     "output_type": "display_data"
    },
    {
     "data": {
      "application/vnd.jupyter.widget-view+json": {
       "model_id": "7afcf90acaf24a8d940c2ecaf1ecc49c",
       "version_major": 2,
       "version_minor": 0
      },
      "text/plain": [
       "Downloading tokenizer.json: 0.00B [00:00, ?B/s]"
      ]
     },
     "metadata": {},
     "output_type": "display_data"
    }
   ],
   "source": [
    "from transformers import pipeline\n",
    "\n",
    "# Load the zero-shot classifier\n",
    "classifier = pipeline(\"zero-shot-classification\")"
   ]
  },
  {
   "cell_type": "code",
   "execution_count": 3,
   "id": "e0323b79",
   "metadata": {},
   "outputs": [],
   "source": [
    "email_text = \"\"\"\n",
    "Dear Customer,\n",
    "\n",
    "We've detected suspicious login attempts on your account. Please verify your identity immediately by logging in through the link below:\n",
    "\n",
    "http://secure-bank-login-verification.com\n",
    "\n",
    "Failure to act may result in temporary suspension of your account.\n",
    "\n",
    "Sincerely,\n",
    "Bank Security Team\n",
    "\"\"\""
   ]
  },
  {
   "cell_type": "code",
   "execution_count": 4,
   "id": "7ddf0c45",
   "metadata": {},
   "outputs": [],
   "source": [
    "labels = [\"phishing\", \"spam\", \"promotion\", \"safe\"]\n"
   ]
  },
  {
   "cell_type": "code",
   "execution_count": 5,
   "id": "497b8eec",
   "metadata": {},
   "outputs": [
    {
     "name": "stdout",
     "output_type": "stream",
     "text": [
      "phishing: 0.44\n",
      "promotion: 0.23\n",
      "safe: 0.19\n",
      "spam: 0.15\n"
     ]
    }
   ],
   "source": [
    "result = classifier(email_text, candidate_labels=labels)\n",
    "\n",
    "# Display results nicely\n",
    "for label, score in zip(result[\"labels\"], result[\"scores\"]):\n",
    "    print(f\"{label}: {score:.2f}\")\n"
   ]
  },
  {
   "cell_type": "code",
   "execution_count": 8,
   "id": "10edf59f",
   "metadata": {},
   "outputs": [],
   "source": [
    "email_2 = \"\"\"\n",
    "Your PayPal account has been locked due to suspicious activity.\n",
    "Click here to restore access: http://fake-paypal-verify.com\n",
    "Failure to act will result in permanent suspension.\n",
    "\"\"\"\n"
   ]
  },
  {
   "cell_type": "code",
   "execution_count": 9,
   "id": "9bd20c83",
   "metadata": {},
   "outputs": [],
   "source": [
    "email_3 = \"\"\"\n",
    "Big savings this weekend! 🎉\n",
    "Get 50% off all electronics. Shop now at TechDeals.com\n",
    "Limited time only!\n",
    "\"\"\"\n"
   ]
  },
  {
   "cell_type": "code",
   "execution_count": 10,
   "id": "a1ace989",
   "metadata": {},
   "outputs": [],
   "source": [
    "email_4 = \"\"\"\n",
    "Hi Sarah,\n",
    "\n",
    "Just confirming our meeting tomorrow at 10:30 AM. Let me know if anything changes.\n",
    "\n",
    "Best,\n",
    "John\n",
    "\"\"\"\n"
   ]
  },
  {
   "cell_type": "code",
   "execution_count": 11,
   "id": "9f2462ed",
   "metadata": {},
   "outputs": [
    {
     "name": "stdout",
     "output_type": "stream",
     "text": [
      "\n",
      "--- Email 2 ---\n",
      "spam: 0.40\n",
      "phishing: 0.23\n",
      "promotion: 0.23\n",
      "safe: 0.14\n",
      "\n",
      "--- Email 3 ---\n",
      "promotion: 0.84\n",
      "spam: 0.07\n",
      "phishing: 0.05\n",
      "safe: 0.04\n",
      "\n",
      "--- Email 4 ---\n",
      "safe: 0.36\n",
      "promotion: 0.27\n",
      "phishing: 0.21\n",
      "spam: 0.15\n"
     ]
    }
   ],
   "source": [
    "for i, email in enumerate([email_2, email_3, email_4], start=2):\n",
    "    print(f\"\\n--- Email {i} ---\")\n",
    "    result = classifier(email, candidate_labels=labels)\n",
    "    for label, score in zip(result[\"labels\"], result[\"scores\"]):\n",
    "        print(f\"{label}: {score:.2f}\")"
   ]
  },
  {
   "cell_type": "code",
   "execution_count": null,
   "id": "a61724b7",
   "metadata": {},
   "outputs": [],
   "source": []
  }
 ],
 "metadata": {
  "kernelspec": {
   "display_name": "Python 3 (ipykernel)",
   "language": "python",
   "name": "python3"
  },
  "language_info": {
   "codemirror_mode": {
    "name": "ipython",
    "version": 3
   },
   "file_extension": ".py",
   "mimetype": "text/x-python",
   "name": "python",
   "nbconvert_exporter": "python",
   "pygments_lexer": "ipython3",
   "version": "3.11.5"
  }
 },
 "nbformat": 4,
 "nbformat_minor": 5
}
