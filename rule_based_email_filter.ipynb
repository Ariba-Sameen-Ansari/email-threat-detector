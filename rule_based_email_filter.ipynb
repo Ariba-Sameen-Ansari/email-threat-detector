{
 "cells": [
  {
   "cell_type": "code",
   "execution_count": 1,
   "id": "bc07e109",
   "metadata": {},
   "outputs": [],
   "source": [
    "phishing_keywords = [\n",
    "    \"verify your identity\", \"click here\", \"suspicious login\",\n",
    "    \"account suspended\", \"confirm your password\", \"bank account\",\n",
    "    \"login immediately\", \"urgent action\", \"security alert\"\n",
    "]\n",
    "\n",
    "spam_keywords = [\n",
    "    \"buy now\", \"free\", \"limited time offer\", \"winner\", \"discount\",\n",
    "    \"save big\", \"money back guarantee\", \"click below\", \"earn cash\",\n",
    "    \"shop now\", \"50% off\", \"sale\", \"exclusive deal\"\n",
    "]\n"
   ]
  },
  {
   "cell_type": "code",
   "execution_count": 2,
   "id": "93398976",
   "metadata": {},
   "outputs": [],
   "source": [
    "emails = [\n",
    "    \"\"\"Dear Customer,\n",
    "\n",
    "    We've detected suspicious login attempts on your account.\n",
    "    Please verify your identity by logging in here:\n",
    "    http://secure-bank-login-verification.com\n",
    "    \"\"\",\n",
    "    \n",
    "    \"\"\"Your PayPal account has been locked.\n",
    "    Click here to restore access:\n",
    "    http://fake-paypal-verify.com\n",
    "    \"\"\",\n",
    "    \n",
    "    \"\"\"Big savings this weekend! 🎉\n",
    "    Get 50% off all electronics. Shop now at TechDeals.com\n",
    "    \"\"\",\n",
    "    \n",
    "    \"\"\"Hi Sarah, confirming our meeting tomorrow at 10:30 AM.\n",
    "    Let me know if anything changes.\n",
    "    \"\"\"\n",
    "]\n"
   ]
  },
  {
   "cell_type": "code",
   "execution_count": 3,
   "id": "bcb60f17",
   "metadata": {},
   "outputs": [],
   "source": [
    "import re\n",
    "\n",
    "def classify_email(email):\n",
    "    phishing_score = sum(1 for keyword in phishing_keywords if re.search(keyword, email, re.IGNORECASE))\n",
    "    spam_score = sum(1 for keyword in spam_keywords if re.search(keyword, email, re.IGNORECASE))\n",
    "\n",
    "    if phishing_score > spam_score and phishing_score > 0:\n",
    "        return \"phishing\"\n",
    "    elif spam_score > phishing_score and spam_score > 0:\n",
    "        return \"spam\"\n",
    "    elif phishing_score == 0 and spam_score == 0:\n",
    "        return \"safe\"\n",
    "    else:\n",
    "        return \"promotion\"  # fallback if unsure\n"
   ]
  },
  {
   "cell_type": "code",
   "execution_count": 4,
   "id": "268c2b6b",
   "metadata": {},
   "outputs": [
    {
     "name": "stdout",
     "output_type": "stream",
     "text": [
      "Email 1 classified as: phishing\n",
      "Email 2 classified as: phishing\n",
      "Email 3 classified as: spam\n",
      "Email 4 classified as: safe\n"
     ]
    }
   ],
   "source": [
    "for i, email in enumerate(emails, start=1):\n",
    "    category = classify_email(email)\n",
    "    print(f\"Email {i} classified as: {category}\")\n"
   ]
  },
  {
   "cell_type": "code",
   "execution_count": null,
   "id": "ba4188d8",
   "metadata": {},
   "outputs": [],
   "source": []
  }
 ],
 "metadata": {
  "kernelspec": {
   "display_name": "Python 3 (ipykernel)",
   "language": "python",
   "name": "python3"
  },
  "language_info": {
   "codemirror_mode": {
    "name": "ipython",
    "version": 3
   },
   "file_extension": ".py",
   "mimetype": "text/x-python",
   "name": "python",
   "nbconvert_exporter": "python",
   "pygments_lexer": "ipython3",
   "version": "3.11.5"
  }
 },
 "nbformat": 4,
 "nbformat_minor": 5
}
